{
 "cells": [
  {
   "cell_type": "code",
   "execution_count": 1,
   "metadata": {},
   "outputs": [],
   "source": [
    "import pandas as pd\n",
    "import numpy as np\n",
    "import matplotlib.pyplot as plt"
   ]
  },
  {
   "cell_type": "code",
   "execution_count": 2,
   "metadata": {},
   "outputs": [],
   "source": [
    "from sklearn.model_selection import train_test_split\n",
    "from sklearn.impute import SimpleImputer\n",
    "from sklearn.compose import ColumnTransformer"
   ]
  },
  {
   "cell_type": "code",
   "execution_count": 3,
   "metadata": {},
   "outputs": [],
   "source": [
    "df=pd.read_excel('titanic3.xls')"
   ]
  },
  {
   "cell_type": "code",
   "execution_count": 4,
   "metadata": {},
   "outputs": [],
   "source": [
    "df=df.drop(columns=['pclass','name','sibsp','parch','boat','body','home.dest','embarked','cabin','ticket'])"
   ]
  },
  {
   "cell_type": "code",
   "execution_count": 5,
   "metadata": {},
   "outputs": [
    {
     "data": {
      "text/html": [
       "<div>\n",
       "<style scoped>\n",
       "    .dataframe tbody tr th:only-of-type {\n",
       "        vertical-align: middle;\n",
       "    }\n",
       "\n",
       "    .dataframe tbody tr th {\n",
       "        vertical-align: top;\n",
       "    }\n",
       "\n",
       "    .dataframe thead th {\n",
       "        text-align: right;\n",
       "    }\n",
       "</style>\n",
       "<table border=\"1\" class=\"dataframe\">\n",
       "  <thead>\n",
       "    <tr style=\"text-align: right;\">\n",
       "      <th></th>\n",
       "      <th>survived</th>\n",
       "      <th>sex</th>\n",
       "      <th>age</th>\n",
       "      <th>fare</th>\n",
       "    </tr>\n",
       "  </thead>\n",
       "  <tbody>\n",
       "    <tr>\n",
       "      <th>0</th>\n",
       "      <td>1</td>\n",
       "      <td>female</td>\n",
       "      <td>NaN</td>\n",
       "      <td>NaN</td>\n",
       "    </tr>\n",
       "    <tr>\n",
       "      <th>1</th>\n",
       "      <td>1</td>\n",
       "      <td>male</td>\n",
       "      <td>0.9167</td>\n",
       "      <td>151.55</td>\n",
       "    </tr>\n",
       "    <tr>\n",
       "      <th>2</th>\n",
       "      <td>0</td>\n",
       "      <td>female</td>\n",
       "      <td>2.0000</td>\n",
       "      <td>151.55</td>\n",
       "    </tr>\n",
       "    <tr>\n",
       "      <th>3</th>\n",
       "      <td>0</td>\n",
       "      <td>male</td>\n",
       "      <td>30.0000</td>\n",
       "      <td>151.55</td>\n",
       "    </tr>\n",
       "    <tr>\n",
       "      <th>4</th>\n",
       "      <td>0</td>\n",
       "      <td>female</td>\n",
       "      <td>25.0000</td>\n",
       "      <td>151.55</td>\n",
       "    </tr>\n",
       "  </tbody>\n",
       "</table>\n",
       "</div>"
      ],
      "text/plain": [
       "   survived     sex      age    fare\n",
       "0         1  female      NaN     NaN\n",
       "1         1    male   0.9167  151.55\n",
       "2         0  female   2.0000  151.55\n",
       "3         0    male  30.0000  151.55\n",
       "4         0  female  25.0000  151.55"
      ]
     },
     "execution_count": 5,
     "metadata": {},
     "output_type": "execute_result"
    }
   ],
   "source": [
    "df.head()"
   ]
  },
  {
   "cell_type": "code",
   "execution_count": 6,
   "metadata": {},
   "outputs": [
    {
     "name": "stdout",
     "output_type": "stream",
     "text": [
      "<class 'pandas.core.frame.DataFrame'>\n",
      "RangeIndex: 1309 entries, 0 to 1308\n",
      "Data columns (total 4 columns):\n",
      "survived    1309 non-null int64\n",
      "sex         1309 non-null object\n",
      "age         1041 non-null float64\n",
      "fare        1292 non-null float64\n",
      "dtypes: float64(2), int64(1), object(1)\n",
      "memory usage: 41.0+ KB\n"
     ]
    }
   ],
   "source": [
    "df.info()"
   ]
  },
  {
   "cell_type": "code",
   "execution_count": 7,
   "metadata": {},
   "outputs": [
    {
     "data": {
      "text/plain": [
       "survived    0.000000\n",
       "sex         0.000000\n",
       "age         0.204736\n",
       "fare        0.012987\n",
       "dtype: float64"
      ]
     },
     "execution_count": 7,
     "metadata": {},
     "output_type": "execute_result"
    }
   ],
   "source": [
    "df.isnull().mean()"
   ]
  },
  {
   "cell_type": "code",
   "execution_count": 8,
   "metadata": {},
   "outputs": [],
   "source": [
    "x = df.drop(columns=['survived'])\n",
    "y=df['survived']\n"
   ]
  },
  {
   "cell_type": "code",
   "execution_count": 9,
   "metadata": {},
   "outputs": [],
   "source": [
    "x_train,x_test,y_train,y_test=train_test_split(x,y,test_size=0.2,random_state=2)"
   ]
  },
  {
   "cell_type": "code",
   "execution_count": 10,
   "metadata": {},
   "outputs": [
    {
     "data": {
      "text/plain": [
       "((1047, 3), (262, 3))"
      ]
     },
     "execution_count": 10,
     "metadata": {},
     "output_type": "execute_result"
    }
   ],
   "source": [
    "x_train.shape,x_test.shape"
   ]
  },
  {
   "cell_type": "code",
   "execution_count": 11,
   "metadata": {},
   "outputs": [
    {
     "data": {
      "text/plain": [
       "sex     0.000000\n",
       "age     0.201528\n",
       "fare    0.014327\n",
       "dtype: float64"
      ]
     },
     "execution_count": 11,
     "metadata": {},
     "output_type": "execute_result"
    }
   ],
   "source": [
    "x_train.isnull().mean()"
   ]
  },
  {
   "cell_type": "code",
   "execution_count": 12,
   "metadata": {},
   "outputs": [],
   "source": []
  },
  {
   "cell_type": "code",
   "execution_count": 14,
   "metadata": {},
   "outputs": [
    {
     "name": "stderr",
     "output_type": "stream",
     "text": [
      "C:\\Users\\Dell\\Anaconda3\\lib\\site-packages\\ipykernel_launcher.py:1: SettingWithCopyWarning: \n",
      "A value is trying to be set on a copy of a slice from a DataFrame.\n",
      "Try using .loc[row_indexer,col_indexer] = value instead\n",
      "\n",
      "See the caveats in the documentation: http://pandas.pydata.org/pandas-docs/stable/indexing.html#indexing-view-versus-copy\n",
      "  \"\"\"Entry point for launching an IPython kernel.\n",
      "C:\\Users\\Dell\\Anaconda3\\lib\\site-packages\\ipykernel_launcher.py:2: SettingWithCopyWarning: \n",
      "A value is trying to be set on a copy of a slice from a DataFrame.\n",
      "Try using .loc[row_indexer,col_indexer] = value instead\n",
      "\n",
      "See the caveats in the documentation: http://pandas.pydata.org/pandas-docs/stable/indexing.html#indexing-view-versus-copy\n",
      "  \n",
      "C:\\Users\\Dell\\Anaconda3\\lib\\site-packages\\ipykernel_launcher.py:4: SettingWithCopyWarning: \n",
      "A value is trying to be set on a copy of a slice from a DataFrame.\n",
      "Try using .loc[row_indexer,col_indexer] = value instead\n",
      "\n",
      "See the caveats in the documentation: http://pandas.pydata.org/pandas-docs/stable/indexing.html#indexing-view-versus-copy\n",
      "  after removing the cwd from sys.path.\n",
      "C:\\Users\\Dell\\Anaconda3\\lib\\site-packages\\ipykernel_launcher.py:5: SettingWithCopyWarning: \n",
      "A value is trying to be set on a copy of a slice from a DataFrame.\n",
      "Try using .loc[row_indexer,col_indexer] = value instead\n",
      "\n",
      "See the caveats in the documentation: http://pandas.pydata.org/pandas-docs/stable/indexing.html#indexing-view-versus-copy\n",
      "  \"\"\"\n"
     ]
    }
   ],
   "source": [
    "x_train['age_99']=x_train['age'].fillna(99)\n",
    "x_train['age_minus1']=x_train['age'].fillna(-1)\n",
    "\n",
    "x_train['fare_999']=x_train['fare'].fillna(999)\n",
    "x_train['fare_minus1']=x_train['fare'].fillna(-1)"
   ]
  },
  {
   "cell_type": "code",
   "execution_count": 15,
   "metadata": {},
   "outputs": [
    {
     "name": "stdout",
     "output_type": "stream",
     "text": [
      "Original Age variable variance:  205.51965030913723\n",
      " Age variance after 99 imputation:  945.9843113348885\n",
      "Age variance after -1 imputation:  312.1820519431294\n",
      "Original Fare variable variance:  2779.3344557316227\n",
      " Fare variance after 999 imputation:  15900.753265894484\n",
      " Fare variance after -1 imputation:  2756.8472574682987\n"
     ]
    }
   ],
   "source": [
    "print('Original Age variable variance: ',x_train['age'].var())\n",
    "print(' Age variance after 99 imputation: ',x_train['age_99'].var())\n",
    "print('Age variance after -1 imputation: ',x_train['age_minus1'].var())\n",
    "\n",
    "print('Original Fare variable variance: ',x_train['fare'].var())\n",
    "print(' Fare variance after 999 imputation: ',x_train['fare_999'].var())\n",
    "print(' Fare variance after -1 imputation: ',x_train['fare_minus1'].var())\n"
   ]
  },
  {
   "cell_type": "code",
   "execution_count": 17,
   "metadata": {},
   "outputs": [
    {
     "data": {
      "text/plain": [
       "<matplotlib.legend.Legend at 0x1711c424ac8>"
      ]
     },
     "execution_count": 17,
     "metadata": {},
     "output_type": "execute_result"
    },
    {
     "data": {
      "image/png": "[encoded data removed]",
      "text/plain": [
       "<Figure size 432x288 with 1 Axes>"
      ]
     },
     "metadata": {
      "needs_background": "light"
     },
     "output_type": "display_data"
    }
   ],
   "source": [
    "fig=plt.figure()\n",
    "ax=fig.add_subplot(111)\n",
    "\n",
    "# original variable distribution\n",
    "x_train['age'].plot(kind='kde' , ax=ax)\n",
    "\n",
    "# variable impute with the variable\n",
    "x_train['age_99'].plot(kind='kde',ax=ax,color='red')\n",
    "\n",
    "# variable imputed with the mean\n",
    "x_train['age_minus1'].plot(kind='kde',ax=ax, color='green')\n",
    "\n",
    "# add Legend\n",
    "lines,labels = ax.get_legend_handles_labels()\n",
    "ax.legend(lines,labels,loc='best')"
   ]
  },
  {
   "cell_type": "code",
   "execution_count": 18,
   "metadata": {},
   "outputs": [
    {
     "data": {
      "text/plain": [
       "<matplotlib.legend.Legend at 0x1711c453e80>"
      ]
     },
     "execution_count": 18,
     "metadata": {},
     "output_type": "execute_result"
    },
    {
     "data": {
      "image/png": "[encoded data removed]",
      "text/plain": [
       "<Figure size 432x288 with 1 Axes>"
      ]
     },
     "metadata": {
      "needs_background": "light"
     },
     "output_type": "display_data"
    }
   ],
   "source": [
    "fig=plt.figure()\n",
    "ax=fig.add_subplot(111)\n",
    "\n",
    "# original variable distribution\n",
    "x_train['fare'].plot(kind='kde' , ax=ax)\n",
    "\n",
    "# variable impute with the variable\n",
    "x_train['fare_999'].plot(kind='kde',ax=ax,color='red')\n",
    "\n",
    "# variable imputed with the mean\n",
    "x_train['fare_minus1'].plot(kind='kde',ax=ax, color='green')\n",
    "\n",
    "# add Legend\n",
    "lines,labels = ax.get_legend_handles_labels()\n",
    "ax.legend(lines,labels,loc='best')"
   ]
  },
  {
   "cell_type": "code",
   "execution_count": 19,
   "metadata": {},
   "outputs": [
    {
     "data": {
      "text/html": [
       "<div>\n",
       "<style scoped>\n",
       "    .dataframe tbody tr th:only-of-type {\n",
       "        vertical-align: middle;\n",
       "    }\n",
       "\n",
       "    .dataframe tbody tr th {\n",
       "        vertical-align: top;\n",
       "    }\n",
       "\n",
       "    .dataframe thead th {\n",
       "        text-align: right;\n",
       "    }\n",
       "</style>\n",
       "<table border=\"1\" class=\"dataframe\">\n",
       "  <thead>\n",
       "    <tr style=\"text-align: right;\">\n",
       "      <th></th>\n",
       "      <th>age</th>\n",
       "      <th>fare</th>\n",
       "      <th>age_99</th>\n",
       "      <th>age_minus</th>\n",
       "      <th>fare_999</th>\n",
       "      <th>fare_minus</th>\n",
       "      <th>age_minus1</th>\n",
       "      <th>fare_minus1</th>\n",
       "    </tr>\n",
       "  </thead>\n",
       "  <tbody>\n",
       "    <tr>\n",
       "      <th>age</th>\n",
       "      <td>205.519650</td>\n",
       "      <td>152.841846</td>\n",
       "      <td>205.519650</td>\n",
       "      <td>205.519650</td>\n",
       "      <td>354.134709</td>\n",
       "      <td>142.638562</td>\n",
       "      <td>205.519650</td>\n",
       "      <td>142.638562</td>\n",
       "    </tr>\n",
       "    <tr>\n",
       "      <th>fare</th>\n",
       "      <td>152.841846</td>\n",
       "      <td>2779.334456</td>\n",
       "      <td>-34.560062</td>\n",
       "      <td>189.461048</td>\n",
       "      <td>2779.334456</td>\n",
       "      <td>2779.334456</td>\n",
       "      <td>189.461048</td>\n",
       "      <td>2779.334456</td>\n",
       "    </tr>\n",
       "    <tr>\n",
       "      <th>age_99</th>\n",
       "      <td>205.519650</td>\n",
       "      <td>-34.560062</td>\n",
       "      <td>945.984311</td>\n",
       "      <td>-176.258859</td>\n",
       "      <td>127.376747</td>\n",
       "      <td>-39.929323</td>\n",
       "      <td>-176.258859</td>\n",
       "      <td>-39.929323</td>\n",
       "    </tr>\n",
       "    <tr>\n",
       "      <th>age_minus</th>\n",
       "      <td>205.519650</td>\n",
       "      <td>189.461048</td>\n",
       "      <td>-176.258859</td>\n",
       "      <td>312.182052</td>\n",
       "      <td>350.299953</td>\n",
       "      <td>180.802426</td>\n",
       "      <td>312.182052</td>\n",
       "      <td>180.802426</td>\n",
       "    </tr>\n",
       "    <tr>\n",
       "      <th>fare_999</th>\n",
       "      <td>354.134709</td>\n",
       "      <td>2779.334456</td>\n",
       "      <td>127.376747</td>\n",
       "      <td>350.299953</td>\n",
       "      <td>15900.753266</td>\n",
       "      <td>2261.352706</td>\n",
       "      <td>350.299953</td>\n",
       "      <td>2261.352706</td>\n",
       "    </tr>\n",
       "    <tr>\n",
       "      <th>fare_minus</th>\n",
       "      <td>142.638562</td>\n",
       "      <td>2779.334456</td>\n",
       "      <td>-39.929323</td>\n",
       "      <td>180.802426</td>\n",
       "      <td>2261.352706</td>\n",
       "      <td>2756.847257</td>\n",
       "      <td>180.802426</td>\n",
       "      <td>2756.847257</td>\n",
       "    </tr>\n",
       "    <tr>\n",
       "      <th>age_minus1</th>\n",
       "      <td>205.519650</td>\n",
       "      <td>189.461048</td>\n",
       "      <td>-176.258859</td>\n",
       "      <td>312.182052</td>\n",
       "      <td>350.299953</td>\n",
       "      <td>180.802426</td>\n",
       "      <td>312.182052</td>\n",
       "      <td>180.802426</td>\n",
       "    </tr>\n",
       "    <tr>\n",
       "      <th>fare_minus1</th>\n",
       "      <td>142.638562</td>\n",
       "      <td>2779.334456</td>\n",
       "      <td>-39.929323</td>\n",
       "      <td>180.802426</td>\n",
       "      <td>2261.352706</td>\n",
       "      <td>2756.847257</td>\n",
       "      <td>180.802426</td>\n",
       "      <td>2756.847257</td>\n",
       "    </tr>\n",
       "  </tbody>\n",
       "</table>\n",
       "</div>"
      ],
      "text/plain": [
       "                    age         fare      age_99   age_minus      fare_999  \\\n",
       "age          205.519650   152.841846  205.519650  205.519650    354.134709   \n",
       "fare         152.841846  2779.334456  -34.560062  189.461048   2779.334456   \n",
       "age_99       205.519650   -34.560062  945.984311 -176.258859    127.376747   \n",
       "age_minus    205.519650   189.461048 -176.258859  312.182052    350.299953   \n",
       "fare_999     354.134709  2779.334456  127.376747  350.299953  15900.753266   \n",
       "fare_minus   142.638562  2779.334456  -39.929323  180.802426   2261.352706   \n",
       "age_minus1   205.519650   189.461048 -176.258859  312.182052    350.299953   \n",
       "fare_minus1  142.638562  2779.334456  -39.929323  180.802426   2261.352706   \n",
       "\n",
       "              fare_minus  age_minus1  fare_minus1  \n",
       "age           142.638562  205.519650   142.638562  \n",
       "fare         2779.334456  189.461048  2779.334456  \n",
       "age_99        -39.929323 -176.258859   -39.929323  \n",
       "age_minus     180.802426  312.182052   180.802426  \n",
       "fare_999     2261.352706  350.299953  2261.352706  \n",
       "fare_minus   2756.847257  180.802426  2756.847257  \n",
       "age_minus1    180.802426  312.182052   180.802426  \n",
       "fare_minus1  2756.847257  180.802426  2756.847257  "
      ]
     },
     "execution_count": 19,
     "metadata": {},
     "output_type": "execute_result"
    }
   ],
   "source": [
    "x_train.cov()"
   ]
  },
  {
   "cell_type": "code",
   "execution_count": 20,
   "metadata": {},
   "outputs": [
    {
     "data": {
      "text/html": [
       "<div>\n",
       "<style scoped>\n",
       "    .dataframe tbody tr th:only-of-type {\n",
       "        vertical-align: middle;\n",
       "    }\n",
       "\n",
       "    .dataframe tbody tr th {\n",
       "        vertical-align: top;\n",
       "    }\n",
       "\n",
       "    .dataframe thead th {\n",
       "        text-align: right;\n",
       "    }\n",
       "</style>\n",
       "<table border=\"1\" class=\"dataframe\">\n",
       "  <thead>\n",
       "    <tr style=\"text-align: right;\">\n",
       "      <th></th>\n",
       "      <th>age</th>\n",
       "      <th>fare</th>\n",
       "      <th>age_99</th>\n",
       "      <th>age_minus</th>\n",
       "      <th>fare_999</th>\n",
       "      <th>fare_minus</th>\n",
       "      <th>age_minus1</th>\n",
       "      <th>fare_minus1</th>\n",
       "    </tr>\n",
       "  </thead>\n",
       "  <tbody>\n",
       "    <tr>\n",
       "      <th>age</th>\n",
       "      <td>1.000000</td>\n",
       "      <td>0.191945</td>\n",
       "      <td>1.000000</td>\n",
       "      <td>1.000000</td>\n",
       "      <td>0.194115</td>\n",
       "      <td>0.178647</td>\n",
       "      <td>1.000000</td>\n",
       "      <td>0.178647</td>\n",
       "    </tr>\n",
       "    <tr>\n",
       "      <th>fare</th>\n",
       "      <td>0.191945</td>\n",
       "      <td>1.000000</td>\n",
       "      <td>-0.021283</td>\n",
       "      <td>0.204796</td>\n",
       "      <td>1.000000</td>\n",
       "      <td>1.000000</td>\n",
       "      <td>0.204796</td>\n",
       "      <td>1.000000</td>\n",
       "    </tr>\n",
       "    <tr>\n",
       "      <th>age_99</th>\n",
       "      <td>1.000000</td>\n",
       "      <td>-0.021283</td>\n",
       "      <td>1.000000</td>\n",
       "      <td>-0.324343</td>\n",
       "      <td>0.032843</td>\n",
       "      <td>-0.024725</td>\n",
       "      <td>-0.324343</td>\n",
       "      <td>-0.024725</td>\n",
       "    </tr>\n",
       "    <tr>\n",
       "      <th>age_minus</th>\n",
       "      <td>1.000000</td>\n",
       "      <td>0.204796</td>\n",
       "      <td>-0.324343</td>\n",
       "      <td>1.000000</td>\n",
       "      <td>0.157227</td>\n",
       "      <td>0.194892</td>\n",
       "      <td>1.000000</td>\n",
       "      <td>0.194892</td>\n",
       "    </tr>\n",
       "    <tr>\n",
       "      <th>fare_999</th>\n",
       "      <td>0.194115</td>\n",
       "      <td>1.000000</td>\n",
       "      <td>0.032843</td>\n",
       "      <td>0.157227</td>\n",
       "      <td>1.000000</td>\n",
       "      <td>0.341549</td>\n",
       "      <td>0.157227</td>\n",
       "      <td>0.341549</td>\n",
       "    </tr>\n",
       "    <tr>\n",
       "      <th>fare_minus</th>\n",
       "      <td>0.178647</td>\n",
       "      <td>1.000000</td>\n",
       "      <td>-0.024725</td>\n",
       "      <td>0.194892</td>\n",
       "      <td>0.341549</td>\n",
       "      <td>1.000000</td>\n",
       "      <td>0.194892</td>\n",
       "      <td>1.000000</td>\n",
       "    </tr>\n",
       "    <tr>\n",
       "      <th>age_minus1</th>\n",
       "      <td>1.000000</td>\n",
       "      <td>0.204796</td>\n",
       "      <td>-0.324343</td>\n",
       "      <td>1.000000</td>\n",
       "      <td>0.157227</td>\n",
       "      <td>0.194892</td>\n",
       "      <td>1.000000</td>\n",
       "      <td>0.194892</td>\n",
       "    </tr>\n",
       "    <tr>\n",
       "      <th>fare_minus1</th>\n",
       "      <td>0.178647</td>\n",
       "      <td>1.000000</td>\n",
       "      <td>-0.024725</td>\n",
       "      <td>0.194892</td>\n",
       "      <td>0.341549</td>\n",
       "      <td>1.000000</td>\n",
       "      <td>0.194892</td>\n",
       "      <td>1.000000</td>\n",
       "    </tr>\n",
       "  </tbody>\n",
       "</table>\n",
       "</div>"
      ],
      "text/plain": [
       "                  age      fare    age_99  age_minus  fare_999  fare_minus  \\\n",
       "age          1.000000  0.191945  1.000000   1.000000  0.194115    0.178647   \n",
       "fare         0.191945  1.000000 -0.021283   0.204796  1.000000    1.000000   \n",
       "age_99       1.000000 -0.021283  1.000000  -0.324343  0.032843   -0.024725   \n",
       "age_minus    1.000000  0.204796 -0.324343   1.000000  0.157227    0.194892   \n",
       "fare_999     0.194115  1.000000  0.032843   0.157227  1.000000    0.341549   \n",
       "fare_minus   0.178647  1.000000 -0.024725   0.194892  0.341549    1.000000   \n",
       "age_minus1   1.000000  0.204796 -0.324343   1.000000  0.157227    0.194892   \n",
       "fare_minus1  0.178647  1.000000 -0.024725   0.194892  0.341549    1.000000   \n",
       "\n",
       "             age_minus1  fare_minus1  \n",
       "age            1.000000     0.178647  \n",
       "fare           0.204796     1.000000  \n",
       "age_99        -0.324343    -0.024725  \n",
       "age_minus      1.000000     0.194892  \n",
       "fare_999       0.157227     0.341549  \n",
       "fare_minus     0.194892     1.000000  \n",
       "age_minus1     1.000000     0.194892  \n",
       "fare_minus1    0.194892     1.000000  "
      ]
     },
     "execution_count": 20,
     "metadata": {},
     "output_type": "execute_result"
    }
   ],
   "source": [
    "x_train.corr()"
   ]
  },
  {
   "cell_type": "code",
   "execution_count": 22,
   "metadata": {},
   "outputs": [
    {
     "data": {
      "text/plain": [
       "<matplotlib.axes._subplots.AxesSubplot at 0x1711c7eec88>"
      ]
     },
     "execution_count": 22,
     "metadata": {},
     "output_type": "execute_result"
    },
    {
     "data": {
      "image/png": "[encoded data removed]",
      "text/plain": [
       "<Figure size 432x288 with 1 Axes>"
      ]
     },
     "metadata": {
      "needs_background": "light"
     },
     "output_type": "display_data"
    }
   ],
   "source": [
    "x_train[['age','age_99','age_minus1']].boxplot()  # major changes outliers"
   ]
  },
  {
   "cell_type": "code",
   "execution_count": 23,
   "metadata": {},
   "outputs": [
    {
     "data": {
      "text/plain": [
       "<matplotlib.axes._subplots.AxesSubplot at 0x1711c8235c0>"
      ]
     },
     "execution_count": 23,
     "metadata": {},
     "output_type": "execute_result"
    },
    {
     "data": {
      "image/png": "[encoded data removed]",
      "text/plain": [
       "<Figure size 432x288 with 1 Axes>"
      ]
     },
     "metadata": {
      "needs_background": "light"
     },
     "output_type": "display_data"
    }
   ],
   "source": [
    "x_train[['fare','fare_999','fare_minus1']].boxplot() # no major change"
   ]
  },
  {
   "cell_type": "code",
   "execution_count": 24,
   "metadata": {},
   "outputs": [],
   "source": [
    "# Using Sklearn"
   ]
  },
  {
   "cell_type": "code",
   "execution_count": 25,
   "metadata": {},
   "outputs": [],
   "source": [
    "x_train,x_test,y_train,y_test=train_test_split(x,y,test_size=0.2,random_state=2)"
   ]
  },
  {
   "cell_type": "code",
   "execution_count": 26,
   "metadata": {},
   "outputs": [],
   "source": [
    "impute1=SimpleImputer(strategy='constant',fill_value=99)\n",
    "impute2=SimpleImputer(strategy='constant',fill_value=999)"
   ]
  },
  {
   "cell_type": "code",
   "execution_count": 27,
   "metadata": {},
   "outputs": [],
   "source": [
    "trf=ColumnTransformer([\n",
    "    ('impute1',impute1,['age']),\n",
    "    ('impute2',impute2,['fare'])\n",
    "\n",
    "],remainder='passthrough')"
   ]
  },
  {
   "cell_type": "code",
   "execution_count": 28,
   "metadata": {},
   "outputs": [
    {
     "data": {
      "text/plain": [
       "ColumnTransformer(n_jobs=None, remainder='passthrough', sparse_threshold=0.3,\n",
       "                  transformer_weights=None,\n",
       "                  transformers=[('impute1',\n",
       "                                 SimpleImputer(add_indicator=False, copy=True,\n",
       "                                               fill_value=99,\n",
       "                                               missing_values=nan,\n",
       "                                               strategy='constant', verbose=0),\n",
       "                                 ['age']),\n",
       "                                ('impute2',\n",
       "                                 SimpleImputer(add_indicator=False, copy=True,\n",
       "                                               fill_value=999,\n",
       "                                               missing_values=nan,\n",
       "                                               strategy='constant', verbose=0),\n",
       "                                 ['fare'])],\n",
       "                  verbose=False)"
      ]
     },
     "execution_count": 28,
     "metadata": {},
     "output_type": "execute_result"
    }
   ],
   "source": [
    "trf.fit(x_train)"
   ]
  },
  {
   "cell_type": "code",
   "execution_count": 29,
   "metadata": {},
   "outputs": [
    {
     "data": {
      "text/plain": [
       "array([99.])"
      ]
     },
     "execution_count": 29,
     "metadata": {},
     "output_type": "execute_result"
    }
   ],
   "source": [
    "trf.named_transformers_['impute1'].statistics_"
   ]
  },
  {
   "cell_type": "code",
   "execution_count": 30,
   "metadata": {},
   "outputs": [
    {
     "data": {
      "text/plain": [
       "array([999.])"
      ]
     },
     "execution_count": 30,
     "metadata": {},
     "output_type": "execute_result"
    }
   ],
   "source": [
    "trf.named_transformers_['impute2'].statistics_ "
   ]
  },
  {
   "cell_type": "code",
   "execution_count": 31,
   "metadata": {},
   "outputs": [],
   "source": [
    "x_train=trf.transform(x_train)\n",
    "x_test=trf.transform(x_test)"
   ]
  },
  {
   "cell_type": "code",
   "execution_count": 32,
   "metadata": {},
   "outputs": [
    {
     "data": {
      "text/plain": [
       "array([[25.0, 30.0, 'female'],\n",
       "       [37.0, 53.1, 'male'],\n",
       "       [9.0, 15.2458, 'female'],\n",
       "       ...,\n",
       "       [31.0, 37.0042, 'male'],\n",
       "       [28.0, 10.5, 'male'],\n",
       "       [24.5, 8.05, 'male']], dtype=object)"
      ]
     },
     "execution_count": 32,
     "metadata": {},
     "output_type": "execute_result"
    }
   ],
   "source": [
    "x_train"
   ]
  },
  {
   "cell_type": "code",
   "execution_count": null,
   "metadata": {},
   "outputs": [],
   "source": []
  }
 ],
 "metadata": {
  "kernelspec": {
   "display_name": "Python 3",
   "language": "python",
   "name": "python3"
  },
  "language_info": {
   "codemirror_mode": {
    "name": "ipython",
    "version": 3
   },
   "file_extension": ".py",
   "mimetype": "text/x-python",
   "name": "python",
   "nbconvert_exporter": "python",
   "pygments_lexer": "ipython3",
   "version": "3.7.3"
  }
 },
 "nbformat": 4,
 "nbformat_minor": 2
}
